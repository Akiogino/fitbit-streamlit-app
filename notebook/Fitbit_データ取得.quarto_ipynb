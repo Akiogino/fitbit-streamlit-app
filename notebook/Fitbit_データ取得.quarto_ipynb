{
  "cells": [
    {
      "cell_type": "markdown",
      "metadata": {},
      "source": [
        "---\n",
        "title: \"Fitbit Sleep Data Analysis\"\n",
        "format:\n",
        "  html:\n",
        "    code-fold: true\n",
        "    theme: cosmo\n",
        "    toc: true\n",
        "execute:\n",
        "  warning: false\n",
        "---\n",
        "\n",
        "このノートブックの目的\n",
        "アクセストークンを取得する\n"
      ],
      "id": "9d297f80"
    },
    {
      "cell_type": "code",
      "metadata": {},
      "source": [
        "#| label: setup\n",
        "#| include: false\n",
        "\n",
        "import pandas as pd\n",
        "import numpy as np\n",
        "import matplotlib.pyplot as plt\n",
        "import seaborn as sns\n",
        "import plotly.express as px\n",
        "from datetime import datetime, timedelta\n",
        "import json\n",
        "import requests\n",
        "from fitbit import Fitbit\n",
        "import os\n",
        "from dotenv import load_dotenv"
      ],
      "id": "setup",
      "execution_count": null,
      "outputs": []
    },
    {
      "cell_type": "markdown",
      "metadata": {},
      "source": [
        "## Fitbit APIの認証設定\n"
      ],
      "id": "5fec53c1"
    },
    {
      "cell_type": "code",
      "metadata": {},
      "source": [
        "#| label: auth-setup\n",
        "\n",
        "# .envファイルから環境変数を読み込む\n",
        "load_dotenv()\n",
        "\n",
        "# 環境変数から認証情報を取得\n",
        "CLIENT_ID = os.getenv('FITBIT_CLIENT_ID')\n",
        "CLIENT_SECRET = os.getenv('FITBIT_CLIENT_SECRET')\n",
        "ACCESS_TOKEN = os.getenv('FITBIT_ACCESS_TOKEN')\n",
        "REFRESH_TOKEN = os.getenv('FITBIT_REFRESH_TOKEN')\n",
        "\n",
        "# 認証情報が設定されているか確認\n",
        "if not CLIENT_ID or not CLIENT_SECRET:\n",
        "    print(\"環境変数にFITBIT_CLIENT_IDとFITBIT_CLIENT_SECRETを設定してください\")\n",
        "    print(\"Fitbit開発者ポータル(https://dev.fitbit.com/apps)でアプリケーションを登録してください\")\n",
        "\n",
        "# トークンが既にある場合はそれを使用、なければ新規に取得\n",
        "if ACCESS_TOKEN and REFRESH_TOKEN:\n",
        "    print(\"既存のトークンを使用します\")\n",
        "    authd_client = Fitbit(\n",
        "        CLIENT_ID,\n",
        "        CLIENT_SECRET,\n",
        "        oauth2=True,\n",
        "        access_token=ACCESS_TOKEN,\n",
        "        refresh_token=REFRESH_TOKEN\n",
        "    )\n",
        "else:\n",
        "    print(\"認証フローを開始します。ブラウザでFitbitの認証ページが開きます。\")\n",
        "    authd_client = Fitbit(\n",
        "        CLIENT_ID,\n",
        "        CLIENT_SECRET,\n",
        "        oauth2=True,\n",
        "        redirect_uri='http://localhost:8080/'\n",
        "    )\n",
        "    print(f\"以下のURLをブラウザで開いて認証してください: {authd_client.client.authorize_token_url()}\")\n",
        "    # ここでブラウザが開いて認証を行い、リダイレクトされたURLからトークンを取得する処理が必要\n",
        "    # ブラウザでリダイレクトされたURLからコードを取得\n",
        "    auth_code = input(\"リダイレクトされたURLからcodeパラメータの値を入力してください: \")\n",
        "    # トークンを取得\n",
        "    authd_client.client.fetch_access_token(auth_code)\n",
        "    \n",
        "    # トークンを表示（本番環境では安全な方法で保存すべき）\n",
        "    print(\"アクセストークン:\", authd_client.client.session.token['access_token'])\n",
        "    print(\"リフレッシュトークン:\", authd_client.client.session.token['refresh_token'])"
      ],
      "id": "auth-setup",
      "execution_count": null,
      "outputs": []
    },
    {
      "cell_type": "markdown",
      "metadata": {},
      "source": [
        "## Fitbitからデータを収集\n"
      ],
      "id": "90418bb0"
    },
    {
      "cell_type": "code",
      "metadata": {},
      "source": [
        "#| label: fetch-data\n",
        "\n",
        "# データ収集の日付範囲を設定\n",
        "today = datetime.now().strftime('%Y-%m-%d')\n",
        "yesterday = (datetime.now() - timedelta(days=1)).strftime('%Y-%m-%d')\n",
        "last_month = (datetime.now() - timedelta(days=30)).strftime('%Y-%m-%d')\n",
        "\n",
        "# 睡眠データを取得\n",
        "try:\n",
        "    sleep_data = authd_client.get_sleep(today)\n",
        "    print(\"本日の睡眠データ:\")\n",
        "    print(json.dumps(sleep_data, indent=2))\n",
        "except Exception as e:\n",
        "    print(f\"睡眠データの取得に失敗しました: {e}\")\n",
        "\n",
        "# 過去30日間の睡眠データを取得\n",
        "try:\n",
        "    sleep_range = authd_client.time_series('sleep/timeInBed', base_date=last_month, end_date=today)\n",
        "    print(\"\\n過去30日間の睡眠データ:\")\n",
        "    print(json.dumps(sleep_range, indent=2))\n",
        "except Exception as e:\n",
        "    print(f\"睡眠時間シリーズの取得に失敗しました: {e}\")\n",
        "\n",
        "# 心拍数データを取得\n",
        "try:\n",
        "    heart_data = authd_client.intraday_time_series('activities/heart', base_date=yesterday, detail_level='1min')\n",
        "    print(\"\\n昨日の心拍数データ:\")\n",
        "    print(json.dumps(heart_data, indent=2))\n",
        "except Exception as e:\n",
        "    print(f\"心拍数データの取得に失敗しました: {e}\")\n",
        "\n",
        "# 取得したデータをDataFrameに変換して保存\n",
        "if 'sleep_range' in locals():\n",
        "    sleep_df = pd.DataFrame(sleep_range['sleep-timeInBed'])\n",
        "    sleep_df.columns = ['date', 'sleep_hours']\n",
        "    sleep_df['sleep_hours'] = sleep_df['sleep_hours'].astype(float) / 60  # 分から時間に変換\n",
        "    sleep_df.to_csv('../Datasets/fitbit_data.csv', index=False)\n",
        "    print(\"\\nデータを保存しました: ../Datasets/fitbit_data.csv\")\n",
        "    \n",
        "    # グローバル変数としてdfを設定\n",
        "    df = sleep_df\n",
        "    print(\"\\nデータの基本統計量:\")\n",
        "    print(df.describe())\n",
        "    \n",
        "    print(\"\\nデータの最初の5行:\")\n",
        "    print(df.head())"
      ],
      "id": "fetch-data",
      "execution_count": null,
      "outputs": []
    },
    {
      "cell_type": "markdown",
      "metadata": {},
      "source": [
        "## Introduction\n",
        "\n",
        "このドキュメントでは、Fitbitの睡眠データを分析します。以下の内容を実施します：\n",
        "\n",
        "1. Fitbitの睡眠データの読み込みと処理\n",
        "2. データの可視化\n",
        "3. 睡眠パターンの分析\n",
        "\n",
        "## データ分析\n"
      ],
      "id": "dc862b7f"
    },
    {
      "cell_type": "code",
      "metadata": {},
      "source": [
        "#| label: load-data\n",
        "#| warning: false\n",
        "\n",
        "# サンプルデータの読み込み\n",
        "try:\n",
        "    df = pd.read_csv('../Datasets/fitbit_data.csv')\n",
        "    print(\"データの基本統計量:\")\n",
        "    print(df.describe())\n",
        "    \n",
        "    print(\"\\nデータの最初の5行:\")\n",
        "    print(df.head())\n",
        "except FileNotFoundError:\n",
        "    print(\"データファイルが見つかりません。パスを確認してください。\")"
      ],
      "id": "load-data",
      "execution_count": null,
      "outputs": []
    },
    {
      "cell_type": "markdown",
      "metadata": {},
      "source": [
        "## 可視化\n",
        "\n",
        "### 睡眠時間の推移\n"
      ],
      "id": "96f212b2"
    },
    {
      "cell_type": "code",
      "metadata": {},
      "source": [
        "#| label: sleep-viz\n",
        "#| warning: false\n",
        "\n",
        "if 'df' in globals():\n",
        "    plt.figure(figsize=(12, 6))\n",
        "    sns.lineplot(data=df, x='date', y='sleep_hours')\n",
        "    plt.title('睡眠時間の推移')\n",
        "    plt.xlabel('日付')\n",
        "    plt.ylabel('睡眠時間 (時間)')\n",
        "    plt.xticks(rotation=45)\n",
        "    plt.tight_layout()\n",
        "    plt.show()"
      ],
      "id": "sleep-viz",
      "execution_count": null,
      "outputs": []
    },
    {
      "cell_type": "markdown",
      "metadata": {},
      "source": [
        "### 睡眠時間の分布\n"
      ],
      "id": "90c45b65"
    },
    {
      "cell_type": "code",
      "metadata": {},
      "source": [
        "#| label: sleep-dist\n",
        "#| warning: false\n",
        "\n",
        "if 'df' in globals():\n",
        "    plt.figure(figsize=(10, 6))\n",
        "    sns.histplot(data=df, x='sleep_hours', bins=20)\n",
        "    plt.title('睡眠時間の分布')\n",
        "    plt.xlabel('睡眠時間 (時間)')\n",
        "    plt.ylabel('頻度')\n",
        "    plt.tight_layout()\n",
        "    plt.show()"
      ],
      "id": "sleep-dist",
      "execution_count": null,
      "outputs": []
    },
    {
      "cell_type": "markdown",
      "metadata": {},
      "source": [
        "## インタラクティブな可視化\n"
      ],
      "id": "32a79ff0"
    },
    {
      "cell_type": "code",
      "metadata": {},
      "source": [
        "#| label: plotly-viz\n",
        "#| warning: false\n",
        "\n",
        "if 'df' in globals():\n",
        "    fig = px.line(df, x='date', y='sleep_hours', \n",
        "                  title='睡眠時間の推移（インタラクティブ）')\n",
        "    fig.update_layout(\n",
        "        xaxis_title='日付',\n",
        "        yaxis_title='睡眠時間 (時間)'\n",
        "    )\n",
        "    fig.show()"
      ],
      "id": "plotly-viz",
      "execution_count": null,
      "outputs": []
    },
    {
      "cell_type": "markdown",
      "metadata": {},
      "source": [
        "## 統計分析\n"
      ],
      "id": "e8783ff1"
    },
    {
      "cell_type": "code",
      "metadata": {},
      "source": [
        "#| label: stats\n",
        "#| warning: false\n",
        "\n",
        "if 'df' in globals():\n",
        "    print(\"睡眠時間の統計概要:\")\n",
        "    print(\"\\n平均睡眠時間:\", df['sleep_hours'].mean().round(2), \"時間\")\n",
        "    print(\"最長睡眠時間:\", df['sleep_hours'].max().round(2), \"時間\")\n",
        "    print(\"最短睡眠時間:\", df['sleep_hours'].min().round(2), \"時間\")\n",
        "    print(\"標準偏差:\", df['sleep_hours'].std().round(2), \"時間\")"
      ],
      "id": "stats",
      "execution_count": null,
      "outputs": []
    }
  ],
  "metadata": {
    "kernelspec": {
      "display_name": "Python 3",
      "language": "python",
      "name": "python3"
    }
  },
  "nbformat": 4,
  "nbformat_minor": 5
}